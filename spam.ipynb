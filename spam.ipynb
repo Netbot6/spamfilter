{
 "cells": [
  {
   "cell_type": "code",
   "execution_count": 13,
   "id": "a17f48c7-a4c1-487c-ab98-107d901118fd",
   "metadata": {},
   "outputs": [],
   "source": [
    "import pandas as pd\n",
    "\n",
    "data = pd.read_csv('train.csv')"
   ]
  },
  {
   "cell_type": "code",
   "execution_count": 17,
   "id": "2a25294a-5bb4-46f3-ac47-79055a364a8a",
   "metadata": {},
   "outputs": [],
   "source": [
    "from tensorflow.keras.preprocessing.text import Tokenizer\n",
    "from tensorflow.keras.preprocessing.sequence import pad_sequences"
   ]
  },
  {
   "cell_type": "code",
   "execution_count": 18,
   "id": "d7df8609-31a4-418f-9fae-2eab63625847",
   "metadata": {},
   "outputs": [
    {
     "name": "stdout",
     "output_type": "stream",
     "text": [
      "2.18.0\n"
     ]
    }
   ],
   "source": [
    "import tensorflow as tf\n",
    "print(tf.__version__)"
   ]
  },
  {
   "cell_type": "code",
   "execution_count": 27,
   "id": "32bb0528-7de0-4c98-a82c-24804a0ea604",
   "metadata": {},
   "outputs": [
    {
     "name": "stdout",
     "output_type": "stream",
     "text": [
      "Index(['qid', 'question_text', 'target', 'cleaned_text'], dtype='object')\n",
      "Index(['qid', 'question_text', 'target', 'cleaned_text'], dtype='object')\n"
     ]
    }
   ],
   "source": [
    "print(train_data.columns)\n",
    "print(val_data.columns)"
   ]
  },
  {
   "cell_type": "code",
   "execution_count": 28,
   "id": "4d20a78c-df83-4991-8524-4bb1233bb761",
   "metadata": {},
   "outputs": [
    {
     "name": "stderr",
     "output_type": "stream",
     "text": [
      "[nltk_data] Downloading package stopwords to\n",
      "[nltk_data]     C:\\Users\\DELL\\AppData\\Roaming\\nltk_data...\n",
      "[nltk_data]   Package stopwords is already up-to-date!\n"
     ]
    }
   ],
   "source": [
    "import pandas as pd\n",
    "\n",
    "# Load your dataset\n",
    "data = pd.read_csv('train.csv')\n",
    "\n",
    "# Clean the data\n",
    "import re\n",
    "import nltk\n",
    "from nltk.corpus import stopwords\n",
    "\n",
    "nltk.download('stopwords')\n",
    "stop_words = set(stopwords.words('english'))\n",
    "\n",
    "def clean_text(text):\n",
    "    text = text.lower()  # Lowercase text\n",
    "    text = re.sub(r'\\d+', '', text)  # Remove numbers\n",
    "    text = re.sub(r'[^\\w\\s]', '', text)  # Remove special characters\n",
    "    text = ' '.join(word for word in text.split() if word not in stop_words)  # Remove stop words\n",
    "    return text\n",
    "\n",
    "data['cleaned_text'] = data['question_text'].apply(clean_text)\n",
    "\n",
    "# Create train/validation splits\n",
    "from sklearn.model_selection import train_test_split\n",
    "\n",
    "train_data, val_data = train_test_split(data, test_size=0.2, random_state=42)"
   ]
  },
  {
   "cell_type": "code",
   "execution_count": 29,
   "id": "1b132980-e24b-48a8-bf5d-43a108661bf7",
   "metadata": {},
   "outputs": [],
   "source": [
    "import numpy as np\n",
    "\n",
    "def load_glove_embeddings(glove_file):\n",
    "    embeddings_index = {}\n",
    "    with open(glove_file, 'r', encoding='utf8') as f:\n",
    "        for line in f:\n",
    "            values = line.split()\n",
    "            word = values[0]\n",
    "            coefs = np.asarray(values[1:], dtype='float32')\n",
    "            embeddings_index[word] = coefs\n",
    "    return embeddings_index\n",
    "\n",
    "glove_file = 'glove.6B.50d.txt'\n",
    "embeddings_index = load_glove_embeddings(glove_file)"
   ]
  },
  {
   "cell_type": "code",
   "execution_count": 30,
   "id": "0c74fc9c-90d1-4806-a0db-75a7d55694d5",
   "metadata": {},
   "outputs": [],
   "source": [
    "from tensorflow.keras.preprocessing.text import Tokenizer\n",
    "from tensorflow.keras.preprocessing.sequence import pad_sequences\n",
    "\n",
    "tokenizer = Tokenizer()\n",
    "tokenizer.fit_on_texts(train_data['cleaned_text'])\n",
    "\n",
    "train_sequences = tokenizer.texts_to_sequences(train_data['cleaned_text'])\n",
    "val_sequences = tokenizer.texts_to_sequences(val_data['cleaned_text'])\n",
    "\n",
    "max_sequence_length = 100\n",
    "train_padded = pad_sequences(train_sequences, maxlen=max_sequence_length)\n",
    "val_padded = pad_sequences(val_sequences, maxlen=max_sequence_length)"
   ]
  },
  {
   "cell_type": "code",
   "execution_count": 31,
   "id": "57474800-e7a9-4ada-8929-403346018ad4",
   "metadata": {},
   "outputs": [],
   "source": [
    "word_index = tokenizer.word_index\n",
    "embedding_dim = 100\n",
    "embedding_matrix = np.zeros((len(word_index) + 1, embedding_dim))\n",
    "\n",
    "for word, i in word_index.items():\n",
    "    embedding_vector = embeddings_index.get(word)\n",
    "    if embedding_vector is not None:\n",
    "        embedding_matrix[i] = embedding_vector"
   ]
  },
  {
   "cell_type": "code",
   "execution_count": 32,
   "id": "aa3e1de1-113d-4d9e-8dd8-764efa35c5f1",
   "metadata": {},
   "outputs": [
    {
     "name": "stderr",
     "output_type": "stream",
     "text": [
      "C:\\Users\\DELL\\AppData\\Local\\Programs\\Python\\Python311\\Lib\\site-packages\\keras\\src\\layers\\core\\embedding.py:90: UserWarning: Argument `input_length` is deprecated. Just remove it.\n",
      "  warnings.warn(\n"
     ]
    }
   ],
   "source": [
    "from tensorflow.keras.models import Sequential\n",
    "from tensorflow.keras.layers import Embedding, LSTM, Dense\n",
    "\n",
    "model = Sequential()\n",
    "model.add(Embedding(input_dim=len(word_index) + 1,\n",
    "                    output_dim=embedding_dim,\n",
    "                    weights=[embedding_matrix],\n",
    "                    input_length=max_sequence_length,\n",
    "                    trainable=False))\n",
    "model.add(LSTM(100, dropout=0.2, recurrent_dropout=0.2))\n",
    "model.add(Dense(1, activation='sigmoid'))\n",
    "\n",
    "model.compile(loss='binary_crossentropy',\n",
    "              optimizer='adam',\n",
    "              metrics=['accuracy'])"
   ]
  },
  {
   "cell_type": "code",
   "execution_count": 33,
   "id": "2d778423-7298-46f1-a59d-ce275ef71c1f",
   "metadata": {},
   "outputs": [
    {
     "name": "stdout",
     "output_type": "stream",
     "text": [
      "Epoch 1/5\n",
      "\u001b[1m32654/32654\u001b[0m \u001b[32m━━━━━━━━━━━━━━━━━━━━\u001b[0m\u001b[37m\u001b[0m \u001b[1m4095s\u001b[0m 125ms/step - accuracy: 0.9377 - loss: 0.2353 - val_accuracy: 0.9393 - val_loss: 0.2300\n",
      "Epoch 2/5\n",
      "\u001b[1m32654/32654\u001b[0m \u001b[32m━━━━━━━━━━━━━━━━━━━━\u001b[0m\u001b[37m\u001b[0m \u001b[1m3949s\u001b[0m 121ms/step - accuracy: 0.9379 - loss: 0.2331 - val_accuracy: 0.9393 - val_loss: 0.2289\n",
      "Epoch 3/5\n",
      "\u001b[1m32654/32654\u001b[0m \u001b[32m━━━━━━━━━━━━━━━━━━━━\u001b[0m\u001b[37m\u001b[0m \u001b[1m4132s\u001b[0m 127ms/step - accuracy: 0.9380 - loss: 0.2327 - val_accuracy: 0.9393 - val_loss: 0.2293\n",
      "Epoch 4/5\n",
      "\u001b[1m32654/32654\u001b[0m \u001b[32m━━━━━━━━━━━━━━━━━━━━\u001b[0m\u001b[37m\u001b[0m \u001b[1m4443s\u001b[0m 136ms/step - accuracy: 0.9374 - loss: 0.2341 - val_accuracy: 0.9393 - val_loss: 0.2293\n",
      "Epoch 5/5\n",
      "\u001b[1m32654/32654\u001b[0m \u001b[32m━━━━━━━━━━━━━━━━━━━━\u001b[0m\u001b[37m\u001b[0m \u001b[1m4422s\u001b[0m 135ms/step - accuracy: 0.9380 - loss: 0.2325 - val_accuracy: 0.9393 - val_loss: 0.2291\n"
     ]
    },
    {
     "data": {
      "text/plain": [
       "<keras.src.callbacks.history.History at 0x23144718650>"
      ]
     },
     "execution_count": 33,
     "metadata": {},
     "output_type": "execute_result"
    }
   ],
   "source": [
    "model.fit(train_padded, train_data['target'],\n",
    "          validation_data=(val_padded, val_data['target']),\n",
    "          epochs=5,\n",
    "          batch_size=32)"
   ]
  },
  {
   "cell_type": "code",
   "execution_count": 35,
   "id": "88825b9a-9983-4d1e-8b0f-1437f2f606b1",
   "metadata": {},
   "outputs": [],
   "source": [
    "model.save('spam_filter_model.keras')"
   ]
  },
  {
   "cell_type": "code",
   "execution_count": 36,
   "id": "9722055b-66e0-4303-ab83-acd0082904db",
   "metadata": {},
   "outputs": [
    {
     "name": "stderr",
     "output_type": "stream",
     "text": [
      "C:\\Users\\DELL\\AppData\\Local\\Programs\\Python\\Python311\\Lib\\site-packages\\keras\\src\\saving\\saving_lib.py:757: UserWarning: Skipping variable loading for optimizer 'rmsprop', because it has 7 variables whereas the saved optimizer has 12 variables. \n",
      "  saveable.load_own_variables(weights_store.get(inner_path))\n"
     ]
    }
   ],
   "source": [
    "from tensorflow.keras.models import load_model\n",
    "\n",
    "model = load_model('spam_filter_model.keras')"
   ]
  },
  {
   "cell_type": "code",
   "execution_count": 41,
   "id": "fad425ad-f25e-4d8b-b1f6-e0f658a69066",
   "metadata": {},
   "outputs": [],
   "source": [
    "model.save('my_model.keras')  # For the native Keras format"
   ]
  },
  {
   "cell_type": "code",
   "execution_count": 42,
   "id": "d1a7b42e-6c12-41a5-9060-cb44ca0b9857",
   "metadata": {},
   "outputs": [
    {
     "name": "stdout",
     "output_type": "stream",
     "text": [
      "File 'my_model.keras' saved successfully.\n"
     ]
    }
   ],
   "source": [
    "import os\n",
    "\n",
    "# Replace 'my_model.keras' or 'my_model.h5' with your file name\n",
    "file_name = 'my_model.keras'\n",
    "if os.path.exists(file_name):\n",
    "    print(f\"File '{file_name}' saved successfully.\")\n",
    "else:\n",
    "    print(f\"File '{file_name}' was not saved.\")"
   ]
  },
  {
   "cell_type": "code",
   "execution_count": 43,
   "id": "19b8ad40-c080-4fbc-9afd-85c1b0261aa7",
   "metadata": {},
   "outputs": [
    {
     "name": "stdout",
     "output_type": "stream",
     "text": [
      "C:\\Users\\DELL\n"
     ]
    }
   ],
   "source": [
    "import os\n",
    "print(os.getcwd())  # Prints the directory where the script is running"
   ]
  },
  {
   "cell_type": "code",
   "execution_count": null,
   "id": "1222b025-04ad-4348-b33b-e05f7821e6ce",
   "metadata": {},
   "outputs": [],
   "source": []
  }
 ],
 "metadata": {
  "kernelspec": {
   "display_name": "Python 3 (ipykernel)",
   "language": "python",
   "name": "python3"
  },
  "language_info": {
   "codemirror_mode": {
    "name": "ipython",
    "version": 3
   },
   "file_extension": ".py",
   "mimetype": "text/x-python",
   "name": "python",
   "nbconvert_exporter": "python",
   "pygments_lexer": "ipython3",
   "version": "3.11.5"
  }
 },
 "nbformat": 4,
 "nbformat_minor": 5
}
